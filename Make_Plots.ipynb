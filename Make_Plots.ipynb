{
 "cells": [
  {
   "cell_type": "code",
   "execution_count": null,
   "id": "d99f84ba",
   "metadata": {},
   "outputs": [],
   "source": [
    "import matplotlib.pyplot as plt\n",
    "\n",
    "from src.compress import make_archive\n",
    "from src.plot_vars import plot"
   ]
  },
  {
   "cell_type": "code",
   "execution_count": null,
   "id": "1a39e45e",
   "metadata": {},
   "outputs": [],
   "source": [
    "%matplotlib inline\n",
    "plt.style.use('fast')\n",
    "plt.rcParams['figure.figsize'] = [12, 7]\n",
    "plt.rcParams['font.size'] = 12"
   ]
  },
  {
   "cell_type": "code",
   "execution_count": null,
   "id": "7716d960",
   "metadata": {},
   "outputs": [],
   "source": [
    "baseline_path = \"base.csv\"\n",
    "mod_path = \"mod.csv\""
   ]
  },
  {
   "cell_type": "code",
   "execution_count": null,
   "id": "f44734f3",
   "metadata": {},
   "outputs": [],
   "source": [
    "# plot all series with diffs\n",
    "plot(baseline_path, mod_path, plot_only_diffs=True)\n",
    "\n",
    "# plot only one series\n",
    "# plot(baseline_path, mod_path, cols=\"Col Name 1\")\n",
    "\n",
    "# plot a couple of series\n",
    "# plot(baseline_path, mod_path, cols=[\"Col Name 1\", \"Col Name 2\"])\n",
    "\n",
    "# plot one series for a set number or rows\n",
    "# plot(baseline_path, mod_path, cols=\"Col Name 1\", low_row_num=10, high_row_num=20)"
   ]
  },
  {
   "cell_type": "code",
   "execution_count": null,
   "outputs": [],
   "source": [
    "# zip plots\n",
    "make_archive(source=\"plots\", destination=\"plots.zip\")"
   ],
   "metadata": {
    "collapsed": false,
    "pycharm": {
     "name": "#%%\n"
    }
   }
  }
 ],
 "metadata": {
  "kernelspec": {
   "display_name": "Python 3",
   "language": "python",
   "name": "python3"
  },
  "language_info": {
   "codemirror_mode": {
    "name": "ipython",
    "version": 3
   },
   "file_extension": ".py",
   "mimetype": "text/x-python",
   "name": "python",
   "nbconvert_exporter": "python",
   "pygments_lexer": "ipython3",
   "version": "3.7.9"
  }
 },
 "nbformat": 4,
 "nbformat_minor": 5
}