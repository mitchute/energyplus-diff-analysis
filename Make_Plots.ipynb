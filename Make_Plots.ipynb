{
 "cells": [
  {
   "cell_type": "code",
   "execution_count": null,
   "id": "d99f84ba",
   "metadata": {},
   "outputs": [],
   "source": [
    "from pathlib import Path\n",
    "\n",
    "import matplotlib.pyplot as plt\n",
    "\n",
    "from eda.compress import make_archive\n",
    "from eda.plot_vars import plot"
   ]
  },
  {
   "cell_type": "code",
   "execution_count": null,
   "id": "1a39e45e",
   "metadata": {},
   "outputs": [],
   "source": [
    "%matplotlib inline\n",
    "plt.style.use('fast')\n",
    "plt.rcParams['figure.figsize'] = [12, 7]\n",
    "plt.rcParams['font.size'] = 12"
   ]
  },
  {
   "cell_type": "code",
   "execution_count": null,
   "id": "7716d960",
   "metadata": {},
   "outputs": [],
   "source": [
    "here = Path()\n",
    "\n",
    "base_path = here / \"base.csv\"\n",
    "mod_path = here / \"mod.csv\"\n",
    "out_path = here"
   ]
  },
  {
   "cell_type": "code",
   "execution_count": null,
   "id": "f44734f3",
   "metadata": {
    "scrolled": false
   },
   "outputs": [],
   "source": [
    "# plot all series with diffs\n",
    "plot(base_path, mod_path, out_path)"
   ]
  }
 ],
 "metadata": {
  "kernelspec": {
   "display_name": "Python 3 (ipykernel)",
   "language": "python",
   "name": "python3"
  },
  "language_info": {
   "codemirror_mode": {
    "name": "ipython",
    "version": 3
   },
   "file_extension": ".py",
   "mimetype": "text/x-python",
   "name": "python",
   "nbconvert_exporter": "python",
   "pygments_lexer": "ipython3",
   "version": "3.9.16"
  }
 },
 "nbformat": 4,
 "nbformat_minor": 5
}
